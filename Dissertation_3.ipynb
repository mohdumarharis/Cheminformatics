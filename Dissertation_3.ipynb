{
  "nbformat": 4,
  "nbformat_minor": 0,
  "metadata": {
    "colab": {
      "provenance": [],
      "authorship_tag": "ABX9TyMVUhHoZZu/SbLdsWBVgO1+",
      "include_colab_link": true
    },
    "kernelspec": {
      "name": "python3",
      "display_name": "Python 3"
    },
    "language_info": {
      "name": "python"
    }
  },
  "cells": [
    {
      "cell_type": "markdown",
      "metadata": {
        "id": "view-in-github",
        "colab_type": "text"
      },
      "source": [
        "<a href=\"https://colab.research.google.com/github/mohdumarharis/Cheminformatics/blob/main/Dissertation_3.ipynb\" target=\"_parent\"><img src=\"https://colab.research.google.com/assets/colab-badge.svg\" alt=\"Open In Colab\"/></a>"
      ]
    },
    {
      "cell_type": "markdown",
      "source": [
        "# Second approach"
      ],
      "metadata": {
        "id": "6MV2J4sB12ay"
      }
    },
    {
      "cell_type": "code",
      "source": [
        "import pandas as pd"
      ],
      "metadata": {
        "id": "fc8gF8kk2VbM"
      },
      "execution_count": null,
      "outputs": []
    },
    {
      "cell_type": "code",
      "execution_count": null,
      "metadata": {
        "id": "MgvISx6V11Y7"
      },
      "outputs": [],
      "source": [
        "molecule_fingerprints=pd.read_csv('descriptors_output.csv')"
      ]
    },
    {
      "cell_type": "code",
      "source": [
        "molecule_fingerprints"
      ],
      "metadata": {
        "colab": {
          "base_uri": "https://localhost:8080/",
          "height": 444
        },
        "id": "GsHv0qHR20ik",
        "outputId": "5688fad9-ed74-446b-a0d4-72e62f3e7367"
      },
      "execution_count": null,
      "outputs": [
        {
          "output_type": "execute_result",
          "data": {
            "text/plain": [
              "                         Name  PubchemFP0  PubchemFP1  PubchemFP2  PubchemFP3  \\\n",
              "0          AUTOGEN_molecule_1         1.0         1.0         1.0         0.0   \n",
              "1          AUTOGEN_molecule_3         1.0         0.0         0.0         0.0   \n",
              "2          AUTOGEN_molecule_4         1.0         1.0         0.0         0.0   \n",
              "3          AUTOGEN_molecule_5         1.0         1.0         0.0         0.0   \n",
              "4          AUTOGEN_molecule_6         1.0         1.0         0.0         0.0   \n",
              "...                       ...         ...         ...         ...         ...   \n",
              "26386  AUTOGEN_molecule_26388         1.0         1.0         0.0         0.0   \n",
              "26387  AUTOGEN_molecule_26387         1.0         1.0         1.0         1.0   \n",
              "26388  AUTOGEN_molecule_26389         1.0         1.0         1.0         1.0   \n",
              "26389  AUTOGEN_molecule_26391         1.0         1.0         1.0         1.0   \n",
              "26390  AUTOGEN_molecule_26390         1.0         1.0         1.0         1.0   \n",
              "\n",
              "       PubchemFP4  PubchemFP5  PubchemFP6  PubchemFP7  PubchemFP8  ...  \\\n",
              "0             0.0         0.0         0.0         0.0         0.0  ...   \n",
              "1             0.0         0.0         0.0         0.0         0.0  ...   \n",
              "2             0.0         0.0         0.0         0.0         0.0  ...   \n",
              "3             0.0         0.0         0.0         0.0         0.0  ...   \n",
              "4             0.0         0.0         0.0         0.0         0.0  ...   \n",
              "...           ...         ...         ...         ...         ...  ...   \n",
              "26386         0.0         0.0         0.0         0.0         0.0  ...   \n",
              "26387         0.0         0.0         0.0         0.0         0.0  ...   \n",
              "26388         0.0         0.0         0.0         0.0         0.0  ...   \n",
              "26389         0.0         0.0         0.0         0.0         0.0  ...   \n",
              "26390         0.0         0.0         0.0         0.0         0.0  ...   \n",
              "\n",
              "       PubchemFP871  PubchemFP872  PubchemFP873  PubchemFP874  PubchemFP875  \\\n",
              "0               0.0           0.0           0.0           0.0           0.0   \n",
              "1               0.0           0.0           0.0           0.0           0.0   \n",
              "2               0.0           0.0           0.0           0.0           0.0   \n",
              "3               0.0           0.0           0.0           0.0           0.0   \n",
              "4               0.0           0.0           0.0           0.0           0.0   \n",
              "...             ...           ...           ...           ...           ...   \n",
              "26386           0.0           0.0           0.0           0.0           0.0   \n",
              "26387           0.0           0.0           0.0           0.0           0.0   \n",
              "26388           0.0           0.0           0.0           0.0           0.0   \n",
              "26389           0.0           0.0           0.0           0.0           0.0   \n",
              "26390           0.0           0.0           0.0           0.0           0.0   \n",
              "\n",
              "       PubchemFP876  PubchemFP877  PubchemFP878  PubchemFP879  PubchemFP880  \n",
              "0               0.0           0.0           0.0           0.0           0.0  \n",
              "1               0.0           0.0           0.0           0.0           0.0  \n",
              "2               0.0           0.0           0.0           0.0           0.0  \n",
              "3               0.0           0.0           0.0           0.0           0.0  \n",
              "4               0.0           0.0           0.0           0.0           0.0  \n",
              "...             ...           ...           ...           ...           ...  \n",
              "26386           0.0           0.0           0.0           0.0           0.0  \n",
              "26387           0.0           0.0           0.0           0.0           0.0  \n",
              "26388           0.0           0.0           0.0           0.0           0.0  \n",
              "26389           0.0           0.0           0.0           0.0           0.0  \n",
              "26390           0.0           0.0           0.0           0.0           0.0  \n",
              "\n",
              "[26391 rows x 882 columns]"
            ],
            "text/html": [
              "\n",
              "  <div id=\"df-f2a7e3f3-326f-4ace-bd37-d9e501361869\" class=\"colab-df-container\">\n",
              "    <div>\n",
              "<style scoped>\n",
              "    .dataframe tbody tr th:only-of-type {\n",
              "        vertical-align: middle;\n",
              "    }\n",
              "\n",
              "    .dataframe tbody tr th {\n",
              "        vertical-align: top;\n",
              "    }\n",
              "\n",
              "    .dataframe thead th {\n",
              "        text-align: right;\n",
              "    }\n",
              "</style>\n",
              "<table border=\"1\" class=\"dataframe\">\n",
              "  <thead>\n",
              "    <tr style=\"text-align: right;\">\n",
              "      <th></th>\n",
              "      <th>Name</th>\n",
              "      <th>PubchemFP0</th>\n",
              "      <th>PubchemFP1</th>\n",
              "      <th>PubchemFP2</th>\n",
              "      <th>PubchemFP3</th>\n",
              "      <th>PubchemFP4</th>\n",
              "      <th>PubchemFP5</th>\n",
              "      <th>PubchemFP6</th>\n",
              "      <th>PubchemFP7</th>\n",
              "      <th>PubchemFP8</th>\n",
              "      <th>...</th>\n",
              "      <th>PubchemFP871</th>\n",
              "      <th>PubchemFP872</th>\n",
              "      <th>PubchemFP873</th>\n",
              "      <th>PubchemFP874</th>\n",
              "      <th>PubchemFP875</th>\n",
              "      <th>PubchemFP876</th>\n",
              "      <th>PubchemFP877</th>\n",
              "      <th>PubchemFP878</th>\n",
              "      <th>PubchemFP879</th>\n",
              "      <th>PubchemFP880</th>\n",
              "    </tr>\n",
              "  </thead>\n",
              "  <tbody>\n",
              "    <tr>\n",
              "      <th>0</th>\n",
              "      <td>AUTOGEN_molecule_1</td>\n",
              "      <td>1.0</td>\n",
              "      <td>1.0</td>\n",
              "      <td>1.0</td>\n",
              "      <td>0.0</td>\n",
              "      <td>0.0</td>\n",
              "      <td>0.0</td>\n",
              "      <td>0.0</td>\n",
              "      <td>0.0</td>\n",
              "      <td>0.0</td>\n",
              "      <td>...</td>\n",
              "      <td>0.0</td>\n",
              "      <td>0.0</td>\n",
              "      <td>0.0</td>\n",
              "      <td>0.0</td>\n",
              "      <td>0.0</td>\n",
              "      <td>0.0</td>\n",
              "      <td>0.0</td>\n",
              "      <td>0.0</td>\n",
              "      <td>0.0</td>\n",
              "      <td>0.0</td>\n",
              "    </tr>\n",
              "    <tr>\n",
              "      <th>1</th>\n",
              "      <td>AUTOGEN_molecule_3</td>\n",
              "      <td>1.0</td>\n",
              "      <td>0.0</td>\n",
              "      <td>0.0</td>\n",
              "      <td>0.0</td>\n",
              "      <td>0.0</td>\n",
              "      <td>0.0</td>\n",
              "      <td>0.0</td>\n",
              "      <td>0.0</td>\n",
              "      <td>0.0</td>\n",
              "      <td>...</td>\n",
              "      <td>0.0</td>\n",
              "      <td>0.0</td>\n",
              "      <td>0.0</td>\n",
              "      <td>0.0</td>\n",
              "      <td>0.0</td>\n",
              "      <td>0.0</td>\n",
              "      <td>0.0</td>\n",
              "      <td>0.0</td>\n",
              "      <td>0.0</td>\n",
              "      <td>0.0</td>\n",
              "    </tr>\n",
              "    <tr>\n",
              "      <th>2</th>\n",
              "      <td>AUTOGEN_molecule_4</td>\n",
              "      <td>1.0</td>\n",
              "      <td>1.0</td>\n",
              "      <td>0.0</td>\n",
              "      <td>0.0</td>\n",
              "      <td>0.0</td>\n",
              "      <td>0.0</td>\n",
              "      <td>0.0</td>\n",
              "      <td>0.0</td>\n",
              "      <td>0.0</td>\n",
              "      <td>...</td>\n",
              "      <td>0.0</td>\n",
              "      <td>0.0</td>\n",
              "      <td>0.0</td>\n",
              "      <td>0.0</td>\n",
              "      <td>0.0</td>\n",
              "      <td>0.0</td>\n",
              "      <td>0.0</td>\n",
              "      <td>0.0</td>\n",
              "      <td>0.0</td>\n",
              "      <td>0.0</td>\n",
              "    </tr>\n",
              "    <tr>\n",
              "      <th>3</th>\n",
              "      <td>AUTOGEN_molecule_5</td>\n",
              "      <td>1.0</td>\n",
              "      <td>1.0</td>\n",
              "      <td>0.0</td>\n",
              "      <td>0.0</td>\n",
              "      <td>0.0</td>\n",
              "      <td>0.0</td>\n",
              "      <td>0.0</td>\n",
              "      <td>0.0</td>\n",
              "      <td>0.0</td>\n",
              "      <td>...</td>\n",
              "      <td>0.0</td>\n",
              "      <td>0.0</td>\n",
              "      <td>0.0</td>\n",
              "      <td>0.0</td>\n",
              "      <td>0.0</td>\n",
              "      <td>0.0</td>\n",
              "      <td>0.0</td>\n",
              "      <td>0.0</td>\n",
              "      <td>0.0</td>\n",
              "      <td>0.0</td>\n",
              "    </tr>\n",
              "    <tr>\n",
              "      <th>4</th>\n",
              "      <td>AUTOGEN_molecule_6</td>\n",
              "      <td>1.0</td>\n",
              "      <td>1.0</td>\n",
              "      <td>0.0</td>\n",
              "      <td>0.0</td>\n",
              "      <td>0.0</td>\n",
              "      <td>0.0</td>\n",
              "      <td>0.0</td>\n",
              "      <td>0.0</td>\n",
              "      <td>0.0</td>\n",
              "      <td>...</td>\n",
              "      <td>0.0</td>\n",
              "      <td>0.0</td>\n",
              "      <td>0.0</td>\n",
              "      <td>0.0</td>\n",
              "      <td>0.0</td>\n",
              "      <td>0.0</td>\n",
              "      <td>0.0</td>\n",
              "      <td>0.0</td>\n",
              "      <td>0.0</td>\n",
              "      <td>0.0</td>\n",
              "    </tr>\n",
              "    <tr>\n",
              "      <th>...</th>\n",
              "      <td>...</td>\n",
              "      <td>...</td>\n",
              "      <td>...</td>\n",
              "      <td>...</td>\n",
              "      <td>...</td>\n",
              "      <td>...</td>\n",
              "      <td>...</td>\n",
              "      <td>...</td>\n",
              "      <td>...</td>\n",
              "      <td>...</td>\n",
              "      <td>...</td>\n",
              "      <td>...</td>\n",
              "      <td>...</td>\n",
              "      <td>...</td>\n",
              "      <td>...</td>\n",
              "      <td>...</td>\n",
              "      <td>...</td>\n",
              "      <td>...</td>\n",
              "      <td>...</td>\n",
              "      <td>...</td>\n",
              "      <td>...</td>\n",
              "    </tr>\n",
              "    <tr>\n",
              "      <th>26386</th>\n",
              "      <td>AUTOGEN_molecule_26388</td>\n",
              "      <td>1.0</td>\n",
              "      <td>1.0</td>\n",
              "      <td>0.0</td>\n",
              "      <td>0.0</td>\n",
              "      <td>0.0</td>\n",
              "      <td>0.0</td>\n",
              "      <td>0.0</td>\n",
              "      <td>0.0</td>\n",
              "      <td>0.0</td>\n",
              "      <td>...</td>\n",
              "      <td>0.0</td>\n",
              "      <td>0.0</td>\n",
              "      <td>0.0</td>\n",
              "      <td>0.0</td>\n",
              "      <td>0.0</td>\n",
              "      <td>0.0</td>\n",
              "      <td>0.0</td>\n",
              "      <td>0.0</td>\n",
              "      <td>0.0</td>\n",
              "      <td>0.0</td>\n",
              "    </tr>\n",
              "    <tr>\n",
              "      <th>26387</th>\n",
              "      <td>AUTOGEN_molecule_26387</td>\n",
              "      <td>1.0</td>\n",
              "      <td>1.0</td>\n",
              "      <td>1.0</td>\n",
              "      <td>1.0</td>\n",
              "      <td>0.0</td>\n",
              "      <td>0.0</td>\n",
              "      <td>0.0</td>\n",
              "      <td>0.0</td>\n",
              "      <td>0.0</td>\n",
              "      <td>...</td>\n",
              "      <td>0.0</td>\n",
              "      <td>0.0</td>\n",
              "      <td>0.0</td>\n",
              "      <td>0.0</td>\n",
              "      <td>0.0</td>\n",
              "      <td>0.0</td>\n",
              "      <td>0.0</td>\n",
              "      <td>0.0</td>\n",
              "      <td>0.0</td>\n",
              "      <td>0.0</td>\n",
              "    </tr>\n",
              "    <tr>\n",
              "      <th>26388</th>\n",
              "      <td>AUTOGEN_molecule_26389</td>\n",
              "      <td>1.0</td>\n",
              "      <td>1.0</td>\n",
              "      <td>1.0</td>\n",
              "      <td>1.0</td>\n",
              "      <td>0.0</td>\n",
              "      <td>0.0</td>\n",
              "      <td>0.0</td>\n",
              "      <td>0.0</td>\n",
              "      <td>0.0</td>\n",
              "      <td>...</td>\n",
              "      <td>0.0</td>\n",
              "      <td>0.0</td>\n",
              "      <td>0.0</td>\n",
              "      <td>0.0</td>\n",
              "      <td>0.0</td>\n",
              "      <td>0.0</td>\n",
              "      <td>0.0</td>\n",
              "      <td>0.0</td>\n",
              "      <td>0.0</td>\n",
              "      <td>0.0</td>\n",
              "    </tr>\n",
              "    <tr>\n",
              "      <th>26389</th>\n",
              "      <td>AUTOGEN_molecule_26391</td>\n",
              "      <td>1.0</td>\n",
              "      <td>1.0</td>\n",
              "      <td>1.0</td>\n",
              "      <td>1.0</td>\n",
              "      <td>0.0</td>\n",
              "      <td>0.0</td>\n",
              "      <td>0.0</td>\n",
              "      <td>0.0</td>\n",
              "      <td>0.0</td>\n",
              "      <td>...</td>\n",
              "      <td>0.0</td>\n",
              "      <td>0.0</td>\n",
              "      <td>0.0</td>\n",
              "      <td>0.0</td>\n",
              "      <td>0.0</td>\n",
              "      <td>0.0</td>\n",
              "      <td>0.0</td>\n",
              "      <td>0.0</td>\n",
              "      <td>0.0</td>\n",
              "      <td>0.0</td>\n",
              "    </tr>\n",
              "    <tr>\n",
              "      <th>26390</th>\n",
              "      <td>AUTOGEN_molecule_26390</td>\n",
              "      <td>1.0</td>\n",
              "      <td>1.0</td>\n",
              "      <td>1.0</td>\n",
              "      <td>1.0</td>\n",
              "      <td>0.0</td>\n",
              "      <td>0.0</td>\n",
              "      <td>0.0</td>\n",
              "      <td>0.0</td>\n",
              "      <td>0.0</td>\n",
              "      <td>...</td>\n",
              "      <td>0.0</td>\n",
              "      <td>0.0</td>\n",
              "      <td>0.0</td>\n",
              "      <td>0.0</td>\n",
              "      <td>0.0</td>\n",
              "      <td>0.0</td>\n",
              "      <td>0.0</td>\n",
              "      <td>0.0</td>\n",
              "      <td>0.0</td>\n",
              "      <td>0.0</td>\n",
              "    </tr>\n",
              "  </tbody>\n",
              "</table>\n",
              "<p>26391 rows × 882 columns</p>\n",
              "</div>\n",
              "    <div class=\"colab-df-buttons\">\n",
              "\n",
              "  <div class=\"colab-df-container\">\n",
              "    <button class=\"colab-df-convert\" onclick=\"convertToInteractive('df-f2a7e3f3-326f-4ace-bd37-d9e501361869')\"\n",
              "            title=\"Convert this dataframe to an interactive table.\"\n",
              "            style=\"display:none;\">\n",
              "\n",
              "  <svg xmlns=\"http://www.w3.org/2000/svg\" height=\"24px\" viewBox=\"0 -960 960 960\">\n",
              "    <path d=\"M120-120v-720h720v720H120Zm60-500h600v-160H180v160Zm220 220h160v-160H400v160Zm0 220h160v-160H400v160ZM180-400h160v-160H180v160Zm440 0h160v-160H620v160ZM180-180h160v-160H180v160Zm440 0h160v-160H620v160Z\"/>\n",
              "  </svg>\n",
              "    </button>\n",
              "\n",
              "  <style>\n",
              "    .colab-df-container {\n",
              "      display:flex;\n",
              "      gap: 12px;\n",
              "    }\n",
              "\n",
              "    .colab-df-convert {\n",
              "      background-color: #E8F0FE;\n",
              "      border: none;\n",
              "      border-radius: 50%;\n",
              "      cursor: pointer;\n",
              "      display: none;\n",
              "      fill: #1967D2;\n",
              "      height: 32px;\n",
              "      padding: 0 0 0 0;\n",
              "      width: 32px;\n",
              "    }\n",
              "\n",
              "    .colab-df-convert:hover {\n",
              "      background-color: #E2EBFA;\n",
              "      box-shadow: 0px 1px 2px rgba(60, 64, 67, 0.3), 0px 1px 3px 1px rgba(60, 64, 67, 0.15);\n",
              "      fill: #174EA6;\n",
              "    }\n",
              "\n",
              "    .colab-df-buttons div {\n",
              "      margin-bottom: 4px;\n",
              "    }\n",
              "\n",
              "    [theme=dark] .colab-df-convert {\n",
              "      background-color: #3B4455;\n",
              "      fill: #D2E3FC;\n",
              "    }\n",
              "\n",
              "    [theme=dark] .colab-df-convert:hover {\n",
              "      background-color: #434B5C;\n",
              "      box-shadow: 0px 1px 3px 1px rgba(0, 0, 0, 0.15);\n",
              "      filter: drop-shadow(0px 1px 2px rgba(0, 0, 0, 0.3));\n",
              "      fill: #FFFFFF;\n",
              "    }\n",
              "  </style>\n",
              "\n",
              "    <script>\n",
              "      const buttonEl =\n",
              "        document.querySelector('#df-f2a7e3f3-326f-4ace-bd37-d9e501361869 button.colab-df-convert');\n",
              "      buttonEl.style.display =\n",
              "        google.colab.kernel.accessAllowed ? 'block' : 'none';\n",
              "\n",
              "      async function convertToInteractive(key) {\n",
              "        const element = document.querySelector('#df-f2a7e3f3-326f-4ace-bd37-d9e501361869');\n",
              "        const dataTable =\n",
              "          await google.colab.kernel.invokeFunction('convertToInteractive',\n",
              "                                                    [key], {});\n",
              "        if (!dataTable) return;\n",
              "\n",
              "        const docLinkHtml = 'Like what you see? Visit the ' +\n",
              "          '<a target=\"_blank\" href=https://colab.research.google.com/notebooks/data_table.ipynb>data table notebook</a>'\n",
              "          + ' to learn more about interactive tables.';\n",
              "        element.innerHTML = '';\n",
              "        dataTable['output_type'] = 'display_data';\n",
              "        await google.colab.output.renderOutput(dataTable, element);\n",
              "        const docLink = document.createElement('div');\n",
              "        docLink.innerHTML = docLinkHtml;\n",
              "        element.appendChild(docLink);\n",
              "      }\n",
              "    </script>\n",
              "  </div>\n",
              "\n",
              "\n",
              "<div id=\"df-34dfa8b5-18e8-4a68-8f2d-c6412cc663a1\">\n",
              "  <button class=\"colab-df-quickchart\" onclick=\"quickchart('df-34dfa8b5-18e8-4a68-8f2d-c6412cc663a1')\"\n",
              "            title=\"Suggest charts.\"\n",
              "            style=\"display:none;\">\n",
              "\n",
              "<svg xmlns=\"http://www.w3.org/2000/svg\" height=\"24px\"viewBox=\"0 0 24 24\"\n",
              "     width=\"24px\">\n",
              "    <g>\n",
              "        <path d=\"M19 3H5c-1.1 0-2 .9-2 2v14c0 1.1.9 2 2 2h14c1.1 0 2-.9 2-2V5c0-1.1-.9-2-2-2zM9 17H7v-7h2v7zm4 0h-2V7h2v10zm4 0h-2v-4h2v4z\"/>\n",
              "    </g>\n",
              "</svg>\n",
              "  </button>\n",
              "\n",
              "<style>\n",
              "  .colab-df-quickchart {\n",
              "    background-color: #E8F0FE;\n",
              "    border: none;\n",
              "    border-radius: 50%;\n",
              "    cursor: pointer;\n",
              "    display: none;\n",
              "    fill: #1967D2;\n",
              "    height: 32px;\n",
              "    padding: 0 0 0 0;\n",
              "    width: 32px;\n",
              "  }\n",
              "\n",
              "  .colab-df-quickchart:hover {\n",
              "    background-color: #E2EBFA;\n",
              "    box-shadow: 0px 1px 2px rgba(60, 64, 67, 0.3), 0px 1px 3px 1px rgba(60, 64, 67, 0.15);\n",
              "    fill: #174EA6;\n",
              "  }\n",
              "\n",
              "  [theme=dark] .colab-df-quickchart {\n",
              "    background-color: #3B4455;\n",
              "    fill: #D2E3FC;\n",
              "  }\n",
              "\n",
              "  [theme=dark] .colab-df-quickchart:hover {\n",
              "    background-color: #434B5C;\n",
              "    box-shadow: 0px 1px 3px 1px rgba(0, 0, 0, 0.15);\n",
              "    filter: drop-shadow(0px 1px 2px rgba(0, 0, 0, 0.3));\n",
              "    fill: #FFFFFF;\n",
              "  }\n",
              "</style>\n",
              "\n",
              "  <script>\n",
              "    async function quickchart(key) {\n",
              "      const charts = await google.colab.kernel.invokeFunction(\n",
              "          'suggestCharts', [key], {});\n",
              "    }\n",
              "    (() => {\n",
              "      let quickchartButtonEl =\n",
              "        document.querySelector('#df-34dfa8b5-18e8-4a68-8f2d-c6412cc663a1 button');\n",
              "      quickchartButtonEl.style.display =\n",
              "        google.colab.kernel.accessAllowed ? 'block' : 'none';\n",
              "    })();\n",
              "  </script>\n",
              "</div>\n",
              "    </div>\n",
              "  </div>\n"
            ]
          },
          "metadata": {},
          "execution_count": 5
        }
      ]
    },
    {
      "cell_type": "code",
      "source": [
        "smiles_cancer=pd.read_csv('smiles_cancer.csv')"
      ],
      "metadata": {
        "id": "juqNpsp52iCz"
      },
      "execution_count": null,
      "outputs": []
    },
    {
      "cell_type": "code",
      "source": [
        "x=molecule_fingerprints.drop(columns=['Name'])"
      ],
      "metadata": {
        "id": "Crrmat_N2swG"
      },
      "execution_count": null,
      "outputs": []
    },
    {
      "cell_type": "code",
      "source": [
        "y=smiles_cancer['Anticancer']"
      ],
      "metadata": {
        "id": "a0rCYzSo26MC"
      },
      "execution_count": null,
      "outputs": []
    },
    {
      "cell_type": "code",
      "source": [
        "data = pd.concat([x, y], axis=1)\n",
        "data.dropna(inplace=True)\n",
        "x = data.drop(columns=['Anticancer'])\n",
        "y = data['Anticancer']"
      ],
      "metadata": {
        "id": "eqSevKt_3fNz"
      },
      "execution_count": null,
      "outputs": []
    },
    {
      "cell_type": "code",
      "source": [
        "data.shape"
      ],
      "metadata": {
        "colab": {
          "base_uri": "https://localhost:8080/"
        },
        "id": "-4DRonrBoNIV",
        "outputId": "ef3f1f2c-5712-41dc-e6a1-eeebdddd1164"
      },
      "execution_count": null,
      "outputs": [
        {
          "output_type": "execute_result",
          "data": {
            "text/plain": [
              "(26381, 882)"
            ]
          },
          "metadata": {},
          "execution_count": 10
        }
      ]
    },
    {
      "cell_type": "code",
      "source": [
        "import numpy as np\n",
        "import pandas as pd\n",
        "from sklearn.model_selection import train_test_split\n",
        "from sklearn.preprocessing import StandardScaler\n",
        "import tensorflow as tf\n",
        "from tensorflow import keras\n",
        "from tensorflow.keras import layers"
      ],
      "metadata": {
        "id": "lhssS6g536uJ"
      },
      "execution_count": null,
      "outputs": []
    },
    {
      "cell_type": "code",
      "source": [
        "# Split the data into training and testing sets\n",
        "X_train, X_test, y_train, y_test = train_test_split(x, y, test_size=0.2, random_state=42)\n"
      ],
      "metadata": {
        "id": "ElUOOtUh32bu"
      },
      "execution_count": null,
      "outputs": []
    },
    {
      "cell_type": "code",
      "source": [
        "# Define the deep learning model\n",
        "model = keras.Sequential([\n",
        "    layers.Input(shape=(X_train.shape[1],)),\n",
        "    layers.Dense(128, activation='relu'),\n",
        "    layers.Dropout(0.3),\n",
        "    layers.Dense(64, activation='relu'),\n",
        "    layers.Dropout(0.3),\n",
        "    layers.Dense(1, activation='sigmoid')\n",
        "])"
      ],
      "metadata": {
        "id": "Nbgx6hWk4K-6"
      },
      "execution_count": null,
      "outputs": []
    },
    {
      "cell_type": "code",
      "source": [
        "# Compile the model\n",
        "model.compile(optimizer='adam', loss='binary_crossentropy', metrics=['accuracy'])\n"
      ],
      "metadata": {
        "id": "cEvDAMGa4brW"
      },
      "execution_count": null,
      "outputs": []
    },
    {
      "cell_type": "code",
      "source": [
        "# Train the model using the resampled data\n",
        "model.fit(X_train, y_train, epochs=30, batch_size=32, validation_split=0.2)\n"
      ],
      "metadata": {
        "colab": {
          "base_uri": "https://localhost:8080/"
        },
        "id": "NJzyjOOo4e9N",
        "outputId": "8520000d-1d56-4e71-928d-092552e649c9"
      },
      "execution_count": null,
      "outputs": [
        {
          "output_type": "stream",
          "name": "stdout",
          "text": [
            "Epoch 1/30\n",
            "528/528 [==============================] - 5s 6ms/step - loss: 0.2131 - accuracy: 0.9529 - val_loss: 0.1991 - val_accuracy: 0.9505\n",
            "Epoch 2/30\n",
            "528/528 [==============================] - 3s 5ms/step - loss: 0.2002 - accuracy: 0.9534 - val_loss: 0.2007 - val_accuracy: 0.9505\n",
            "Epoch 3/30\n",
            "528/528 [==============================] - 4s 7ms/step - loss: 0.1936 - accuracy: 0.9534 - val_loss: 0.2025 - val_accuracy: 0.9505\n",
            "Epoch 4/30\n",
            "528/528 [==============================] - 3s 5ms/step - loss: 0.1930 - accuracy: 0.9534 - val_loss: 0.2025 - val_accuracy: 0.9505\n",
            "Epoch 5/30\n",
            "528/528 [==============================] - 3s 5ms/step - loss: 0.1897 - accuracy: 0.9534 - val_loss: 0.1994 - val_accuracy: 0.9505\n",
            "Epoch 6/30\n",
            "528/528 [==============================] - 3s 5ms/step - loss: 0.1878 - accuracy: 0.9534 - val_loss: 0.2020 - val_accuracy: 0.9505\n",
            "Epoch 7/30\n",
            "528/528 [==============================] - 3s 7ms/step - loss: 0.1836 - accuracy: 0.9534 - val_loss: 0.2043 - val_accuracy: 0.9505\n",
            "Epoch 8/30\n",
            "528/528 [==============================] - 3s 6ms/step - loss: 0.1821 - accuracy: 0.9534 - val_loss: 0.2055 - val_accuracy: 0.9505\n",
            "Epoch 9/30\n",
            "528/528 [==============================] - 3s 5ms/step - loss: 0.1815 - accuracy: 0.9534 - val_loss: 0.2007 - val_accuracy: 0.9505\n",
            "Epoch 10/30\n",
            "528/528 [==============================] - 4s 7ms/step - loss: 0.1799 - accuracy: 0.9534 - val_loss: 0.2081 - val_accuracy: 0.9505\n",
            "Epoch 11/30\n",
            "528/528 [==============================] - 4s 7ms/step - loss: 0.1783 - accuracy: 0.9535 - val_loss: 0.2061 - val_accuracy: 0.9505\n",
            "Epoch 12/30\n",
            "528/528 [==============================] - 3s 5ms/step - loss: 0.1754 - accuracy: 0.9534 - val_loss: 0.2077 - val_accuracy: 0.9505\n",
            "Epoch 13/30\n",
            "528/528 [==============================] - 3s 5ms/step - loss: 0.1742 - accuracy: 0.9536 - val_loss: 0.2090 - val_accuracy: 0.9505\n",
            "Epoch 14/30\n",
            "528/528 [==============================] - 3s 5ms/step - loss: 0.1728 - accuracy: 0.9538 - val_loss: 0.2131 - val_accuracy: 0.9502\n",
            "Epoch 15/30\n",
            "528/528 [==============================] - 4s 7ms/step - loss: 0.1691 - accuracy: 0.9540 - val_loss: 0.2215 - val_accuracy: 0.9502\n",
            "Epoch 16/30\n",
            "528/528 [==============================] - 3s 6ms/step - loss: 0.1673 - accuracy: 0.9540 - val_loss: 0.2343 - val_accuracy: 0.9502\n",
            "Epoch 17/30\n",
            "528/528 [==============================] - 3s 5ms/step - loss: 0.1675 - accuracy: 0.9542 - val_loss: 0.2405 - val_accuracy: 0.9502\n",
            "Epoch 18/30\n",
            "528/528 [==============================] - 3s 5ms/step - loss: 0.1641 - accuracy: 0.9542 - val_loss: 0.2331 - val_accuracy: 0.9469\n",
            "Epoch 19/30\n",
            "528/528 [==============================] - 3s 7ms/step - loss: 0.1651 - accuracy: 0.9547 - val_loss: 0.2236 - val_accuracy: 0.9484\n",
            "Epoch 20/30\n",
            "528/528 [==============================] - 3s 6ms/step - loss: 0.1615 - accuracy: 0.9553 - val_loss: 0.2288 - val_accuracy: 0.9488\n",
            "Epoch 21/30\n",
            "528/528 [==============================] - 5s 9ms/step - loss: 0.1615 - accuracy: 0.9543 - val_loss: 0.2325 - val_accuracy: 0.9493\n",
            "Epoch 22/30\n",
            "528/528 [==============================] - 3s 5ms/step - loss: 0.1601 - accuracy: 0.9549 - val_loss: 0.2363 - val_accuracy: 0.9486\n",
            "Epoch 23/30\n",
            "528/528 [==============================] - 4s 8ms/step - loss: 0.1569 - accuracy: 0.9551 - val_loss: 0.2359 - val_accuracy: 0.9481\n",
            "Epoch 24/30\n",
            "528/528 [==============================] - 3s 5ms/step - loss: 0.1568 - accuracy: 0.9557 - val_loss: 0.2392 - val_accuracy: 0.9474\n",
            "Epoch 25/30\n",
            "528/528 [==============================] - 3s 5ms/step - loss: 0.1535 - accuracy: 0.9562 - val_loss: 0.2677 - val_accuracy: 0.9486\n",
            "Epoch 26/30\n",
            "528/528 [==============================] - 3s 5ms/step - loss: 0.1539 - accuracy: 0.9558 - val_loss: 0.2484 - val_accuracy: 0.9491\n",
            "Epoch 27/30\n",
            "528/528 [==============================] - 4s 7ms/step - loss: 0.1516 - accuracy: 0.9558 - val_loss: 0.2686 - val_accuracy: 0.9481\n",
            "Epoch 28/30\n",
            "528/528 [==============================] - 3s 6ms/step - loss: 0.1489 - accuracy: 0.9563 - val_loss: 0.2609 - val_accuracy: 0.9486\n",
            "Epoch 29/30\n",
            "528/528 [==============================] - 3s 5ms/step - loss: 0.1502 - accuracy: 0.9561 - val_loss: 0.2517 - val_accuracy: 0.9476\n",
            "Epoch 30/30\n",
            "528/528 [==============================] - 3s 5ms/step - loss: 0.1465 - accuracy: 0.9564 - val_loss: 0.2784 - val_accuracy: 0.9460\n"
          ]
        },
        {
          "output_type": "execute_result",
          "data": {
            "text/plain": [
              "<keras.callbacks.History at 0x7b53a654aa70>"
            ]
          },
          "metadata": {},
          "execution_count": 25
        }
      ]
    },
    {
      "cell_type": "code",
      "source": [
        "# Evaluate the model on the original test data\n",
        "test_loss, test_acc = model.evaluate(X_test, y_test)\n",
        "print('Test accuracy:', test_acc)"
      ],
      "metadata": {
        "colab": {
          "base_uri": "https://localhost:8080/"
        },
        "id": "fr64un2M4vLV",
        "outputId": "519fb974-e80e-41c8-d3cb-840f88b06a9d"
      },
      "execution_count": null,
      "outputs": [
        {
          "output_type": "stream",
          "name": "stdout",
          "text": [
            "165/165 [==============================] - 0s 2ms/step - loss: 0.2748 - accuracy: 0.9494\n",
            "Test accuracy: 0.9494030475616455\n"
          ]
        }
      ]
    },
    {
      "cell_type": "code",
      "source": [
        "# Make predictions\n",
        "predictions = model.predict(X_test)"
      ],
      "metadata": {
        "colab": {
          "base_uri": "https://localhost:8080/"
        },
        "id": "d-hoZyeA49SX",
        "outputId": "8240c56f-125d-42b8-dc49-70208ca4a56d"
      },
      "execution_count": null,
      "outputs": [
        {
          "output_type": "stream",
          "name": "stdout",
          "text": [
            "165/165 [==============================] - 0s 2ms/step\n"
          ]
        }
      ]
    },
    {
      "cell_type": "code",
      "source": [
        "# Convert predictions to binary classes (0 or 1)\n",
        "predicted_classes = np.round(predictions)\n"
      ],
      "metadata": {
        "id": "nNW5ySBF5EuJ"
      },
      "execution_count": null,
      "outputs": []
    },
    {
      "cell_type": "code",
      "source": [
        "import matplotlib.pyplot as plt\n",
        "\n",
        "# Plot a bar graph showing the distribution of predicted classes\n",
        "unique_classes, class_counts = np.unique(predicted_classes, return_counts=True)\n",
        "\n",
        "\n",
        "plt.bar(unique_classes, class_counts)\n",
        "plt.xticks(unique_classes, ['Non-Anticancer', 'Anticancer'])\n",
        "plt.xlabel('Predicted Classes')\n",
        "plt.ylabel('Count')\n",
        "plt.title('Distribution of Predicted Classes')\n",
        "plt.show()"
      ],
      "metadata": {
        "colab": {
          "base_uri": "https://localhost:8080/",
          "height": 472
        },
        "id": "z9Flm9gn5IwB",
        "outputId": "bc5bdf15-1432-48a8-c5ae-d6d253a447ba"
      },
      "execution_count": null,
      "outputs": [
        {
          "output_type": "display_data",
          "data": {
            "text/plain": [
              "<Figure size 640x480 with 1 Axes>"
            ],
            "image/png": "[encoded data removed]"
          },
          "metadata": {}
        }
      ]
    },
    {
      "cell_type": "code",
      "source": [
        "import matplotlib.pyplot as plt\n",
        "\n",
        "# Plot a bar graph showing the distribution of predicted classes\n",
        "unique_classes, class_counts = np.unique(y_test, return_counts=True)\n",
        "\n",
        "\n",
        "plt.bar(unique_classes, class_counts)\n",
        "plt.xticks(unique_classes, ['Non-Anticancer', 'Anticancer'])\n",
        "plt.xlabel('y_test')\n",
        "plt.ylabel('Count')\n",
        "plt.title('Distribution of y_test')\n",
        "plt.show()"
      ],
      "metadata": {
        "colab": {
          "base_uri": "https://localhost:8080/",
          "height": 472
        },
        "id": "nsTLZouj5LqA",
        "outputId": "0abb3b1b-094a-46cf-e8f5-430f78341103"
      },
      "execution_count": null,
      "outputs": [
        {
          "output_type": "display_data",
          "data": {
            "text/plain": [
              "<Figure size 640x480 with 1 Axes>"
            ],
            "image/png": "[encoded data removed]"
          },
          "metadata": {}
        }
      ]
    },
    {
      "cell_type": "code",
      "source": [
        "# Assess performance metrics (e.g., accuracy, precision, recall, F1-score)\n",
        "from sklearn.metrics import accuracy_score, precision_score, recall_score, f1_score\n",
        "accuracy = accuracy_score(y_test, predicted_classes)\n",
        "precision = precision_score(y_test, predicted_classes)\n",
        "recall = recall_score(y_test, predicted_classes)\n",
        "f1 = f1_score(y_test, predicted_classes)"
      ],
      "metadata": {
        "id": "gLUr5x0T5Pay"
      },
      "execution_count": null,
      "outputs": []
    },
    {
      "cell_type": "code",
      "source": [
        "print('Accuracy:', accuracy)\n",
        "print('Precision:', precision)\n",
        "print('Recall:', recall)\n",
        "print('F1-Score:', f1)"
      ],
      "metadata": {
        "colab": {
          "base_uri": "https://localhost:8080/"
        },
        "id": "9OTuUvVb5Ugu",
        "outputId": "54c4ec21-e7fa-4911-d7d2-63cd994a0cbd"
      },
      "execution_count": null,
      "outputs": [
        {
          "output_type": "stream",
          "name": "stdout",
          "text": [
            "Accuracy: 0.9494030699260944\n",
            "Precision: 0.08695652173913043\n",
            "Recall: 0.008064516129032258\n",
            "F1-Score: 0.014760147601476016\n"
          ]
        }
      ]
    },
    {
      "cell_type": "code",
      "source": [
        "from sklearn.metrics import confusion_matrix\n",
        "import matplotlib.pyplot as plt\n",
        "import seaborn as sns\n",
        "\n",
        "# Create a confusion matrix\n",
        "conf_matrix = confusion_matrix(y_test, predicted_classes)\n",
        "\n",
        "# Plot the confusion matrix\n",
        "plt.figure(figsize=(8, 6))\n",
        "sns.heatmap(conf_matrix, annot=True, fmt='d', cmap='Blues')\n",
        "plt.title('Confusion Matrix')\n",
        "plt.xlabel('Predicted')\n",
        "plt.ylabel('Actual')\n",
        "plt.show()"
      ],
      "metadata": {
        "colab": {
          "base_uri": "https://localhost:8080/",
          "height": 564
        },
        "id": "LnjNd9_75XKg",
        "outputId": "b60d7e6d-726e-4d5c-f510-acfb2817fc0e"
      },
      "execution_count": null,
      "outputs": [
        {
          "output_type": "display_data",
          "data": {
            "text/plain": [
              "<Figure size 800x600 with 2 Axes>"
            ],
            "image/png": "[encoded data removed]"
          },
          "metadata": {}
        }
      ]
    },
    {
      "cell_type": "code",
      "source": [
        "import numpy as np\n",
        "import matplotlib.pyplot as plt\n",
        "from sklearn.metrics import confusion_matrix, precision_recall_curve, roc_curve, auc\n",
        "import seaborn as sns\n",
        "\n",
        "# # Example data (replace with your actual data)\n",
        "# y_true = np.random.randint(2, size=880)\n",
        "# y_scores = np.random.rand(880)\n",
        "\n",
        "y_test_model1 = y_test\n",
        "predicted_classes_model1 =predicted_classes\n",
        "# Confusion Matrix\n",
        "def plot_confusion_matrix(y_true, y_pred):\n",
        "    cm = confusion_matrix(y_true, y_pred)\n",
        "    plt.figure(figsize=(8, 6))\n",
        "    sns.heatmap(cm, annot=True, cmap=\"Blues\", fmt=\"d\")\n",
        "    plt.xlabel('Predicted Labels')\n",
        "    plt.ylabel('True Labels')\n",
        "    plt.title('Confusion Matrix')\n",
        "    plt.show()\n",
        "\n",
        "# Precision-Recall Curve\n",
        "def plot_precision_recall_curve(y_true, y_scores):\n",
        "    precision, recall, _ = precision_recall_curve(y_true, y_scores)\n",
        "    plt.figure(figsize=(8, 6))\n",
        "    plt.plot(recall, precision, color='b', lw=2)\n",
        "    plt.xlabel('Recall')\n",
        "    plt.ylabel('Precision')\n",
        "    plt.title('Precision-Recall Curve')\n",
        "    plt.xlim([0.0, 1.0])\n",
        "    plt.ylim([0.0, 1.05])\n",
        "    plt.show()\n",
        "\n",
        "# ROC Curve\n",
        "def plot_roc_curve(y_true, y_scores):\n",
        "    fpr, tpr, _ = roc_curve(y_true, y_scores)\n",
        "    roc_auc = auc(fpr, tpr)\n",
        "    plt.figure(figsize=(8, 6))\n",
        "    plt.plot(fpr, tpr, color='b', lw=2, label='ROC curve (area = %0.2f)' % roc_auc)\n",
        "    plt.plot([0, 1], [0, 1], color='gray', linestyle='--')\n",
        "    plt.xlabel('False Positive Rate')\n",
        "    plt.ylabel('True Positive Rate')\n",
        "    plt.title('Receiver Operating Characteristic (ROC) Curve')\n",
        "    plt.legend(loc='lower right')\n",
        "    plt.show()\n",
        "\n",
        "# Class Distribution\n",
        "def plot_class_distribution(y_true):\n",
        "    plt.figure(figsize=(8, 6))\n",
        "    sns.countplot(x=y_true)\n",
        "    plt.xlabel('Class')\n",
        "    plt.ylabel('Count')\n",
        "    plt.title('Class Distribution')\n",
        "    plt.show()\n",
        "\n",
        "# Example usage\n",
        "plot_confusion_matrix(y_test_model1, predicted_classes_model1)\n",
        "plot_precision_recall_curve(y_test_model1, predicted_classes_model1)\n",
        "plot_roc_curve(y_test_model1, predicted_classes_model1)\n",
        "plot_class_distribution(y_test_model1)\n"
      ],
      "metadata": {
        "colab": {
          "base_uri": "https://localhost:8080/",
          "height": 1000
        },
        "id": "byvyI8IAveIQ",
        "outputId": "92b07725-a83f-4fa3-c821-0d8981446c54"
      },
      "execution_count": null,
      "outputs": [
        {
          "output_type": "display_data",
          "data": {
            "text/plain": [
              "<Figure size 800x600 with 2 Axes>"
            ],
            "image/png": "[encoded data removed]"
          },
          "metadata": {}
        },
        {
          "output_type": "display_data",
          "data": {
            "text/plain": [
              "<Figure size 800x600 with 1 Axes>"
            ],
            "image/png": "[encoded data removed]"
          },
          "metadata": {}
        },
        {
          "output_type": "display_data",
          "data": {
            "text/plain": [
              "<Figure size 800x600 with 1 Axes>"
            ],
            "image/png": "[encoded data removed]"
          },
          "metadata": {}
        },
        {
          "output_type": "display_data",
          "data": {
            "text/plain": [
              "<Figure size 800x600 with 1 Axes>"
            ],
            "image/png": "[encoded data removed]"
          },
          "metadata": {}
        }
      ]
    },
    {
      "cell_type": "markdown",
      "source": [
        "# Another Approach"
      ],
      "metadata": {
        "id": "uH8_8JTd5lj_"
      }
    },
    {
      "cell_type": "code",
      "source": [
        "# Define the neural network model 2\n",
        "model = keras.Sequential([\n",
        "    layers.Input(shape=(X_train.shape[1],)),\n",
        "    layers.Dense(128, activation='relu'),\n",
        "    layers.Dropout(0.5),\n",
        "    layers.Dense(64, activation='relu'),\n",
        "    layers.Dropout(0.5),\n",
        "    layers.Dense(1, activation='sigmoid')\n",
        "])\n",
        "\n",
        "# Compile the model with class weights\n",
        "class_weight = {0: 1, 1: 25148 / 1243}\n",
        "model.compile(optimizer=keras.optimizers.Adam(learning_rate=0.001),\n",
        "              loss='binary_crossentropy',\n",
        "              metrics=['accuracy'])"
      ],
      "metadata": {
        "id": "3aronLbd5ngQ"
      },
      "execution_count": null,
      "outputs": []
    },
    {
      "cell_type": "code",
      "source": [
        "history = model.fit(X_train, y_train, epochs=20, batch_size=32,validation_split=0.2, class_weight=class_weight)"
      ],
      "metadata": {
        "colab": {
          "base_uri": "https://localhost:8080/"
        },
        "id": "6oBDTRLQ5sO6",
        "outputId": "044592ca-03c3-4870-84da-7dec51b22d12"
      },
      "execution_count": null,
      "outputs": [
        {
          "output_type": "stream",
          "name": "stdout",
          "text": [
            "Epoch 1/20\n",
            "528/528 [==============================] - 5s 7ms/step - loss: 1.4147 - accuracy: 0.5187 - val_loss: 0.6689 - val_accuracy: 0.6797\n",
            "Epoch 2/20\n",
            "528/528 [==============================] - 3s 6ms/step - loss: 1.3480 - accuracy: 0.4602 - val_loss: 0.7206 - val_accuracy: 0.0742\n",
            "Epoch 3/20\n",
            "528/528 [==============================] - 3s 5ms/step - loss: 1.3200 - accuracy: 0.4193 - val_loss: 0.6612 - val_accuracy: 0.4319\n",
            "Epoch 4/20\n",
            "528/528 [==============================] - 3s 5ms/step - loss: 1.3113 - accuracy: 0.3932 - val_loss: 0.7065 - val_accuracy: 0.2589\n",
            "Epoch 5/20\n",
            "528/528 [==============================] - 4s 7ms/step - loss: 1.3216 - accuracy: 0.3810 - val_loss: 0.6954 - val_accuracy: 0.2341\n",
            "Epoch 6/20\n",
            "528/528 [==============================] - 3s 5ms/step - loss: 1.3124 - accuracy: 0.3939 - val_loss: 0.7034 - val_accuracy: 0.1343\n",
            "Epoch 7/20\n",
            "528/528 [==============================] - 3s 5ms/step - loss: 1.3094 - accuracy: 0.2953 - val_loss: 0.7116 - val_accuracy: 0.2518\n",
            "Epoch 8/20\n",
            "528/528 [==============================] - 3s 6ms/step - loss: 1.3071 - accuracy: 0.3103 - val_loss: 0.7136 - val_accuracy: 0.1836\n",
            "Epoch 9/20\n",
            "528/528 [==============================] - 4s 7ms/step - loss: 1.3114 - accuracy: 0.3532 - val_loss: 0.7072 - val_accuracy: 0.1779\n",
            "Epoch 10/20\n",
            "528/528 [==============================] - 3s 5ms/step - loss: 1.3002 - accuracy: 0.3548 - val_loss: 0.5841 - val_accuracy: 0.7354\n",
            "Epoch 11/20\n",
            "528/528 [==============================] - 3s 5ms/step - loss: 1.3046 - accuracy: 0.3721 - val_loss: 0.6824 - val_accuracy: 0.3618\n",
            "Epoch 12/20\n",
            "528/528 [==============================] - 3s 5ms/step - loss: 1.2895 - accuracy: 0.3743 - val_loss: 0.6779 - val_accuracy: 0.3627\n",
            "Epoch 13/20\n",
            "528/528 [==============================] - 4s 7ms/step - loss: 1.2899 - accuracy: 0.3357 - val_loss: 0.6730 - val_accuracy: 0.3186\n",
            "Epoch 14/20\n",
            "528/528 [==============================] - 3s 5ms/step - loss: 1.2936 - accuracy: 0.4260 - val_loss: 0.7089 - val_accuracy: 0.2566\n",
            "Epoch 15/20\n",
            "528/528 [==============================] - 3s 5ms/step - loss: 1.2954 - accuracy: 0.4005 - val_loss: 0.7113 - val_accuracy: 0.2196\n",
            "Epoch 16/20\n",
            "528/528 [==============================] - 3s 5ms/step - loss: 1.2968 - accuracy: 0.3367 - val_loss: 0.6817 - val_accuracy: 0.2653\n",
            "Epoch 17/20\n",
            "528/528 [==============================] - 4s 7ms/step - loss: 1.2929 - accuracy: 0.3569 - val_loss: 0.6751 - val_accuracy: 0.3587\n",
            "Epoch 18/20\n",
            "528/528 [==============================] - 3s 6ms/step - loss: 1.2816 - accuracy: 0.3931 - val_loss: 0.6722 - val_accuracy: 0.3312\n",
            "Epoch 19/20\n",
            "528/528 [==============================] - 4s 8ms/step - loss: 1.2844 - accuracy: 0.3633 - val_loss: 0.6827 - val_accuracy: 0.3537\n",
            "Epoch 20/20\n",
            "528/528 [==============================] - 3s 5ms/step - loss: 1.2776 - accuracy: 0.4234 - val_loss: 0.7159 - val_accuracy: 0.1701\n"
          ]
        }
      ]
    },
    {
      "cell_type": "code",
      "source": [
        "# Evaluate the model on the original test data\n",
        "test_loss, test_acc = model.evaluate(X_test, y_test)\n",
        "print('Test accuracy:', test_acc)"
      ],
      "metadata": {
        "colab": {
          "base_uri": "https://localhost:8080/"
        },
        "id": "9RT3DKmD5135",
        "outputId": "5d266ff3-6b93-4c36-d54a-f110eb57ae34"
      },
      "execution_count": null,
      "outputs": [
        {
          "output_type": "stream",
          "name": "stdout",
          "text": [
            "165/165 [==============================] - 0s 2ms/step - loss: 0.7204 - accuracy: 0.1586\n",
            "Test accuracy: 0.15861284732818604\n"
          ]
        }
      ]
    },
    {
      "cell_type": "code",
      "source": [
        "# Make predictions\n",
        "predictions = model.predict(X_test)"
      ],
      "metadata": {
        "colab": {
          "base_uri": "https://localhost:8080/"
        },
        "id": "28Mo8wV56L3A",
        "outputId": "a07e1e49-cc92-446e-8eb1-37ffd0c66651"
      },
      "execution_count": null,
      "outputs": [
        {
          "output_type": "stream",
          "name": "stdout",
          "text": [
            "165/165 [==============================] - 0s 2ms/step\n"
          ]
        }
      ]
    },
    {
      "cell_type": "code",
      "source": [
        "# Convert predictions to binary classes (0 or 1)\n",
        "predicted_classes = np.round(predictions)"
      ],
      "metadata": {
        "id": "CD2cCmWY6Ri6"
      },
      "execution_count": null,
      "outputs": []
    },
    {
      "cell_type": "code",
      "source": [
        "# Assess performance metrics (e.g., accuracy, precision, recall, F1-score)\n",
        "from sklearn.metrics import accuracy_score, precision_score, recall_score, f1_score\n",
        "accuracy = accuracy_score(y_test, predicted_classes)\n",
        "precision = precision_score(y_test, predicted_classes)\n",
        "recall = recall_score(y_test, predicted_classes)\n",
        "f1 = f1_score(y_test, predicted_classes)"
      ],
      "metadata": {
        "id": "InhGP_A-6Wye"
      },
      "execution_count": null,
      "outputs": []
    },
    {
      "cell_type": "code",
      "source": [
        "print('Accuracy:', accuracy)\n",
        "print('Precision:', precision)\n",
        "print('Recall:', recall)\n",
        "print('F1-Score:', f1)"
      ],
      "metadata": {
        "colab": {
          "base_uri": "https://localhost:8080/"
        },
        "id": "Fn2IU1oI6Zl7",
        "outputId": "68efbd51-f0ba-4879-b292-d5719d6410e6"
      },
      "execution_count": null,
      "outputs": [
        {
          "output_type": "stream",
          "name": "stdout",
          "text": [
            "Accuracy: 0.1586128482092098\n",
            "Precision: 0.04710458081244598\n",
            "Recall: 0.8790322580645161\n",
            "F1-Score: 0.08941755537325677\n"
          ]
        }
      ]
    },
    {
      "cell_type": "code",
      "source": [
        "import matplotlib.pyplot as plt\n",
        "import seaborn as sns\n",
        "\n",
        "# Create a confusion matrix\n",
        "conf_matrix = confusion_matrix(y_test, predicted_classes)\n",
        "\n",
        "# Plot the confusion matrix\n",
        "plt.figure(figsize=(8, 6))\n",
        "sns.heatmap(conf_matrix, annot=True, fmt='d', cmap='Blues')\n",
        "plt.title('Confusion Matrix')\n",
        "plt.xlabel('Predicted')\n",
        "plt.ylabel('Actual')\n",
        "plt.show()"
      ],
      "metadata": {
        "colab": {
          "base_uri": "https://localhost:8080/",
          "height": 564
        },
        "id": "ICjkRIs26cXo",
        "outputId": "92e3c85f-b117-4760-a923-c4057cc85460"
      },
      "execution_count": null,
      "outputs": [
        {
          "output_type": "display_data",
          "data": {
            "text/plain": [
              "<Figure size 800x600 with 2 Axes>"
            ],
            "image/png": "[encoded data removed]"
          },
          "metadata": {}
        }
      ]
    },
    {
      "cell_type": "code",
      "source": [
        "plt.bar(unique_classes, class_counts)\n",
        "plt.xticks(unique_classes, ['Non-Anticancer', 'Anticancer'])\n",
        "plt.xlabel('Predicted Classes')\n",
        "plt.ylabel('Count')\n",
        "plt.title('Distribution of Predicted Classes')\n",
        "plt.show()"
      ],
      "metadata": {
        "colab": {
          "base_uri": "https://localhost:8080/",
          "height": 472
        },
        "id": "Td73yvLF6qmV",
        "outputId": "47b5d875-1178-443d-d725-2694def503eb"
      },
      "execution_count": null,
      "outputs": [
        {
          "output_type": "display_data",
          "data": {
            "text/plain": [
              "<Figure size 640x480 with 1 Axes>"
            ],
            "image/png": "[encoded data removed]"
          },
          "metadata": {}
        }
      ]
    },
    {
      "cell_type": "code",
      "source": [
        "import matplotlib.pyplot as plt\n",
        "\n",
        "# Plot a bar graph showing the distribution of predicted classes\n",
        "unique_classes, class_counts = np.unique(y_test, return_counts=True)\n",
        "\n",
        "\n",
        "plt.bar(unique_classes, class_counts)\n",
        "plt.xticks(unique_classes, ['Non-Anticancer', 'Anticancer'])\n",
        "plt.xlabel('y_test')\n",
        "plt.ylabel('Count')\n",
        "plt.title('Distribution of y_test')\n",
        "plt.show()"
      ],
      "metadata": {
        "colab": {
          "base_uri": "https://localhost:8080/",
          "height": 472
        },
        "id": "WYhkO9RN6w_Z",
        "outputId": "dcaa2991-cae6-492f-98b2-6a05e858a49a"
      },
      "execution_count": null,
      "outputs": [
        {
          "output_type": "display_data",
          "data": {
            "text/plain": [
              "<Figure size 640x480 with 1 Axes>"
            ],
            "image/png": "[encoded data removed]"
          },
          "metadata": {}
        }
      ]
    },
    {
      "cell_type": "markdown",
      "source": [
        "# Applying other methods"
      ],
      "metadata": {
        "id": "uFuT_RJ57JCJ"
      }
    },
    {
      "cell_type": "code",
      "source": [
        "from sklearn.preprocessing import StandardScaler\n",
        "from sklearn.linear_model import LogisticRegression, LinearRegression\n",
        "from sklearn.metrics import accuracy_score, precision_score, recall_score, f1_score\n"
      ],
      "metadata": {
        "id": "My5oknO-62op"
      },
      "execution_count": null,
      "outputs": []
    },
    {
      "cell_type": "code",
      "source": [
        "# Logistic Regression\n",
        "logreg_model = LogisticRegression()\n",
        "logreg_model.fit(X_train, y_train)"
      ],
      "metadata": {
        "colab": {
          "base_uri": "https://localhost:8080/",
          "height": 218
        },
        "id": "XO-xqCVQ7Pdf",
        "outputId": "34c7e79d-5da8-4541-8c39-52bb4a5eea07"
      },
      "execution_count": null,
      "outputs": [
        {
          "output_type": "stream",
          "name": "stderr",
          "text": [
            "/usr/local/lib/python3.10/dist-packages/sklearn/linear_model/_logistic.py:458: ConvergenceWarning: lbfgs failed to converge (status=1):\n",
            "STOP: TOTAL NO. of ITERATIONS REACHED LIMIT.\n",
            "\n",
            "Increase the number of iterations (max_iter) or scale the data as shown in:\n",
            "    https://scikit-learn.org/stable/modules/preprocessing.html\n",
            "Please also refer to the documentation for alternative solver options:\n",
            "    https://scikit-learn.org/stable/modules/linear_model.html#logistic-regression\n",
            "  n_iter_i = _check_optimize_result(\n"
          ]
        },
        {
          "output_type": "execute_result",
          "data": {
            "text/plain": [
              "LogisticRegression()"
            ],
            "text/html": [
              "<style>#sk-container-id-1 {color: black;background-color: white;}#sk-container-id-1 pre{padding: 0;}#sk-container-id-1 div.sk-toggleable {background-color: white;}#sk-container-id-1 label.sk-toggleable__label {cursor: pointer;display: block;width: 100%;margin-bottom: 0;padding: 0.3em;box-sizing: border-box;text-align: center;}#sk-container-id-1 label.sk-toggleable__label-arrow:before {content: \"▸\";float: left;margin-right: 0.25em;color: #696969;}#sk-container-id-1 label.sk-toggleable__label-arrow:hover:before {color: black;}#sk-container-id-1 div.sk-estimator:hover label.sk-toggleable__label-arrow:before {color: black;}#sk-container-id-1 div.sk-toggleable__content {max-height: 0;max-width: 0;overflow: hidden;text-align: left;background-color: #f0f8ff;}#sk-container-id-1 div.sk-toggleable__content pre {margin: 0.2em;color: black;border-radius: 0.25em;background-color: #f0f8ff;}#sk-container-id-1 input.sk-toggleable__control:checked~div.sk-toggleable__content {max-height: 200px;max-width: 100%;overflow: auto;}#sk-container-id-1 input.sk-toggleable__control:checked~label.sk-toggleable__label-arrow:before {content: \"▾\";}#sk-container-id-1 div.sk-estimator input.sk-toggleable__control:checked~label.sk-toggleable__label {background-color: #d4ebff;}#sk-container-id-1 div.sk-label input.sk-toggleable__control:checked~label.sk-toggleable__label {background-color: #d4ebff;}#sk-container-id-1 input.sk-hidden--visually {border: 0;clip: rect(1px 1px 1px 1px);clip: rect(1px, 1px, 1px, 1px);height: 1px;margin: -1px;overflow: hidden;padding: 0;position: absolute;width: 1px;}#sk-container-id-1 div.sk-estimator {font-family: monospace;background-color: #f0f8ff;border: 1px dotted black;border-radius: 0.25em;box-sizing: border-box;margin-bottom: 0.5em;}#sk-container-id-1 div.sk-estimator:hover {background-color: #d4ebff;}#sk-container-id-1 div.sk-parallel-item::after {content: \"\";width: 100%;border-bottom: 1px solid gray;flex-grow: 1;}#sk-container-id-1 div.sk-label:hover label.sk-toggleable__label {background-color: #d4ebff;}#sk-container-id-1 div.sk-serial::before {content: \"\";position: absolute;border-left: 1px solid gray;box-sizing: border-box;top: 0;bottom: 0;left: 50%;z-index: 0;}#sk-container-id-1 div.sk-serial {display: flex;flex-direction: column;align-items: center;background-color: white;padding-right: 0.2em;padding-left: 0.2em;position: relative;}#sk-container-id-1 div.sk-item {position: relative;z-index: 1;}#sk-container-id-1 div.sk-parallel {display: flex;align-items: stretch;justify-content: center;background-color: white;position: relative;}#sk-container-id-1 div.sk-item::before, #sk-container-id-1 div.sk-parallel-item::before {content: \"\";position: absolute;border-left: 1px solid gray;box-sizing: border-box;top: 0;bottom: 0;left: 50%;z-index: -1;}#sk-container-id-1 div.sk-parallel-item {display: flex;flex-direction: column;z-index: 1;position: relative;background-color: white;}#sk-container-id-1 div.sk-parallel-item:first-child::after {align-self: flex-end;width: 50%;}#sk-container-id-1 div.sk-parallel-item:last-child::after {align-self: flex-start;width: 50%;}#sk-container-id-1 div.sk-parallel-item:only-child::after {width: 0;}#sk-container-id-1 div.sk-dashed-wrapped {border: 1px dashed gray;margin: 0 0.4em 0.5em 0.4em;box-sizing: border-box;padding-bottom: 0.4em;background-color: white;}#sk-container-id-1 div.sk-label label {font-family: monospace;font-weight: bold;display: inline-block;line-height: 1.2em;}#sk-container-id-1 div.sk-label-container {text-align: center;}#sk-container-id-1 div.sk-container {/* jupyter's `normalize.less` sets `[hidden] { display: none; }` but bootstrap.min.css set `[hidden] { display: none !important; }` so we also need the `!important` here to be able to override the default hidden behavior on the sphinx rendered scikit-learn.org. See: https://github.com/scikit-learn/scikit-learn/issues/21755 */display: inline-block !important;position: relative;}#sk-container-id-1 div.sk-text-repr-fallback {display: none;}</style><div id=\"sk-container-id-1\" class=\"sk-top-container\"><div class=\"sk-text-repr-fallback\"><pre>LogisticRegression()</pre><b>In a Jupyter environment, please rerun this cell to show the HTML representation or trust the notebook. <br />On GitHub, the HTML representation is unable to render, please try loading this page with nbviewer.org.</b></div><div class=\"sk-container\" hidden><div class=\"sk-item\"><div class=\"sk-estimator sk-toggleable\"><input class=\"sk-toggleable__control sk-hidden--visually\" id=\"sk-estimator-id-1\" type=\"checkbox\" checked><label for=\"sk-estimator-id-1\" class=\"sk-toggleable__label sk-toggleable__label-arrow\">LogisticRegression</label><div class=\"sk-toggleable__content\"><pre>LogisticRegression()</pre></div></div></div></div></div>"
            ]
          },
          "metadata": {},
          "execution_count": 47
        }
      ]
    },
    {
      "cell_type": "code",
      "source": [
        "# Make predictions\n",
        "logreg_predictions = logreg_model.predict(X_test)\n"
      ],
      "metadata": {
        "id": "0UxFAqiv7WEn"
      },
      "execution_count": null,
      "outputs": []
    },
    {
      "cell_type": "code",
      "source": [
        "logreg_predictions"
      ],
      "metadata": {
        "colab": {
          "base_uri": "https://localhost:8080/"
        },
        "id": "QfDE4Ozn7jpI",
        "outputId": "ec7a71e3-686e-4df0-de72-b49601ab025a"
      },
      "execution_count": null,
      "outputs": [
        {
          "output_type": "execute_result",
          "data": {
            "text/plain": [
              "array([0, 0, 0, ..., 0, 0, 0])"
            ]
          },
          "metadata": {},
          "execution_count": 49
        }
      ]
    },
    {
      "cell_type": "code",
      "source": [
        "logreg_predicted_classes = np.round(logreg_predictions)"
      ],
      "metadata": {
        "id": "8K07pau87eU_"
      },
      "execution_count": null,
      "outputs": []
    },
    {
      "cell_type": "code",
      "source": [
        "# Evaluate models\n",
        "def evaluate_model(y_true, y_pred, model_name):\n",
        "    accuracy = accuracy_score(y_true, y_pred)\n",
        "    precision = precision_score(y_true, y_pred)\n",
        "    recall = recall_score(y_true, y_pred)\n",
        "    f1 = f1_score(y_true, y_pred)\n",
        "\n",
        "    print(f\"Metrics for {model_name}:\")\n",
        "    print(f\"Accuracy: {accuracy:.4f}\")\n",
        "    print(f\"Precision: {precision:.4f}\")\n",
        "    print(f\"Recall: {recall:.4f}\")\n",
        "    print(f\"F1-Score: {f1:.4f}\")\n",
        "    print()\n",
        "\n",
        "evaluate_model(y_test, logreg_predicted_classes, \"Logistic Regression\")\n",
        "#evaluate_model(y_test, linear_predicted_classes, \"Linear Regression\")\n",
        "\n"
      ],
      "metadata": {
        "colab": {
          "base_uri": "https://localhost:8080/"
        },
        "id": "emmkNCRW7haY",
        "outputId": "d08d998b-ab69-44a2-f26b-135224bcd38c"
      },
      "execution_count": null,
      "outputs": [
        {
          "output_type": "stream",
          "name": "stdout",
          "text": [
            "Metrics for Logistic Regression:\n",
            "Accuracy: 0.9528\n",
            "Precision: 0.0000\n",
            "Recall: 0.0000\n",
            "F1-Score: 0.0000\n",
            "\n"
          ]
        }
      ]
    },
    {
      "cell_type": "code",
      "source": [
        "from sklearn.ensemble import RandomForestClassifier\n",
        "from sklearn.metrics import accuracy_score, precision_score, recall_score, f1_score\n",
        "\n",
        "\n",
        "# Initialize the Random Forest classifier\n",
        "rf_model = RandomForestClassifier(n_estimators=100, random_state=42)\n",
        "\n",
        "# Train the model\n",
        "rf_model.fit(X_train, y_train)\n",
        "\n",
        "# Make predictions\n",
        "rf_predictions = rf_model.predict(X_test)\n",
        "\n",
        "# Evaluate the model\n",
        "def evaluate_model(y_true, y_pred, model_name):\n",
        "    accuracy = accuracy_score(y_true, y_pred)\n",
        "    precision = precision_score(y_true, y_pred)\n",
        "    recall = recall_score(y_true, y_pred)\n",
        "    f1 = f1_score(y_true, y_pred)\n",
        "\n",
        "    print(f\"Metrics for {model_name}:\")\n",
        "    print(f\"Accuracy: {accuracy:.4f}\")\n",
        "    print(f\"Precision: {precision:.4f}\")\n",
        "    print(f\"Recall: {recall:.4f}\")\n",
        "    print(f\"F1-Score: {f1:.4f}\")\n",
        "    print()\n",
        "\n",
        "evaluate_model(y_test, rf_predictions, \"Random Forest\")"
      ],
      "metadata": {
        "colab": {
          "base_uri": "https://localhost:8080/"
        },
        "id": "KG5XllBu7vzH",
        "outputId": "f8341091-ccf7-4188-9951-a86d6950f75c"
      },
      "execution_count": null,
      "outputs": [
        {
          "output_type": "stream",
          "name": "stdout",
          "text": [
            "Metrics for Random Forest:\n",
            "Accuracy: 0.9426\n",
            "Precision: 0.0896\n",
            "Recall: 0.0242\n",
            "F1-Score: 0.0381\n",
            "\n"
          ]
        }
      ]
    },
    {
      "cell_type": "code",
      "source": [
        "from sklearn.metrics import confusion_matrix\n",
        "import matplotlib.pyplot as plt\n",
        "import seaborn as sns\n",
        "\n",
        "# Create a confusion matrix\n",
        "conf_matrix = confusion_matrix(y_test, rf_predictions)\n",
        "\n",
        "# Plot the confusion matrix\n",
        "plt.figure(figsize=(8, 6))\n",
        "sns.heatmap(conf_matrix, annot=True, fmt='d', cmap='Blues')\n",
        "plt.title('Confusion Matrix')\n",
        "plt.xlabel('Predicted')\n",
        "plt.ylabel('Actual')\n",
        "plt.show()"
      ],
      "metadata": {
        "colab": {
          "base_uri": "https://localhost:8080/",
          "height": 564
        },
        "id": "pUBa0Fyp8Cp4",
        "outputId": "df1da35f-0d5f-41d0-c843-12b6f54b4a92"
      },
      "execution_count": null,
      "outputs": [
        {
          "output_type": "display_data",
          "data": {
            "text/plain": [
              "<Figure size 800x600 with 2 Axes>"
            ],
            "image/png": "[encoded data removed]"
          },
          "metadata": {}
        }
      ]
    },
    {
      "cell_type": "code",
      "source": [],
      "metadata": {
        "id": "UBKKBgT08L-n"
      },
      "execution_count": null,
      "outputs": []
    },
    {
      "cell_type": "markdown",
      "source": [
        "# CNN APPROACH"
      ],
      "metadata": {
        "id": "WPIbCgNgnWFL"
      }
    },
    {
      "cell_type": "code",
      "source": [],
      "metadata": {
        "id": "KjfHpofmtrcq"
      },
      "execution_count": null,
      "outputs": []
    }
  ]
}